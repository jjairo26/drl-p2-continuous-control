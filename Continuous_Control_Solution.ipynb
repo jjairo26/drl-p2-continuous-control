{
 "cells": [
  {
   "cell_type": "code",
   "execution_count": 1,
   "id": "064d748b",
   "metadata": {},
   "outputs": [
    {
     "name": "stdout",
     "output_type": "stream",
     "text": [
      "Found path: /lhome/jaiinga/git/nanodegree-drl/drl-p2-continuous-control/./Reacher_Linux/Reacher.x86_64\n",
      "Mono path[0] = '/lhome/jaiinga/git/nanodegree-drl/drl-p2-continuous-control/./Reacher_Linux/Reacher_Data/Managed'\n",
      "Mono config path = '/lhome/jaiinga/git/nanodegree-drl/drl-p2-continuous-control/./Reacher_Linux/Reacher_Data/MonoBleedingEdge/etc'\n",
      "Preloaded 'ScreenSelector.so'\n",
      "Preloaded 'libgrpc_csharp_ext.x64.so'\n",
      "Unable to preload the following plugins:\n",
      "\tScreenSelector.so\n",
      "\tlibgrpc_csharp_ext.x86.so\n",
      "Logging to /lhome/jaiinga/.config/unity3d/Unity Technologies/Unity Environment/Player.log\n"
     ]
    },
    {
     "name": "stderr",
     "output_type": "stream",
     "text": [
      "INFO:unityagents:\n",
      "'Academy' started successfully!\n",
      "Unity Academy name: Academy\n",
      "        Number of Brains: 1\n",
      "        Number of External Brains : 1\n",
      "        Lesson number : 0\n",
      "        Reset Parameters :\n",
      "\t\tgoal_size -> 5.0\n",
      "\t\tgoal_speed -> 1.0\n",
      "Unity brain name: ReacherBrain\n",
      "        Number of Visual Observations (per agent): 0\n",
      "        Vector Observation space type: continuous\n",
      "        Vector Observation space size (per agent): 33\n",
      "        Number of stacked Vector Observation: 1\n",
      "        Vector Action space type: continuous\n",
      "        Vector Action space size (per agent): 4\n",
      "        Vector Action descriptions: , , , \n"
     ]
    },
    {
     "name": "stdout",
     "output_type": "stream",
     "text": [
      "Number of agents: 1\n",
      "Size of each action: 4\n",
      "There are 1 agents. Each observes a state with length: 33\n",
      "The state for the first agent looks like: [ 0.00000000e+00 -4.00000000e+00  0.00000000e+00  1.00000000e+00\n",
      " -0.00000000e+00 -0.00000000e+00 -4.37113883e-08  0.00000000e+00\n",
      "  0.00000000e+00  0.00000000e+00  0.00000000e+00  0.00000000e+00\n",
      "  0.00000000e+00  0.00000000e+00 -1.00000000e+01  0.00000000e+00\n",
      "  1.00000000e+00 -0.00000000e+00 -0.00000000e+00 -4.37113883e-08\n",
      "  0.00000000e+00  0.00000000e+00  0.00000000e+00  0.00000000e+00\n",
      "  0.00000000e+00  0.00000000e+00  5.75471878e+00 -1.00000000e+00\n",
      "  5.55726671e+00  0.00000000e+00  1.00000000e+00  0.00000000e+00\n",
      " -1.68164849e-01]\n"
     ]
    }
   ],
   "source": [
    "from unityagents import UnityEnvironment\n",
    "import numpy as np\n",
    "\n",
    "env = UnityEnvironment(file_name='./Reacher_Linux/Reacher.x86_64')\n",
    "\n",
    "# get the default brain\n",
    "brain_name = env.brain_names[0]\n",
    "brain = env.brains[brain_name]\n",
    "\n",
    "# reset the environment\n",
    "env_info = env.reset(train_mode=True)[brain_name]\n",
    "\n",
    "# number of agents\n",
    "num_agents = len(env_info.agents)\n",
    "print('Number of agents:', num_agents)\n",
    "\n",
    "# size of each action\n",
    "action_size = brain.vector_action_space_size\n",
    "print('Size of each action:', action_size)\n",
    "\n",
    "# examine the state space \n",
    "states = env_info.vector_observations\n",
    "state_size = states.shape[1]\n",
    "print('There are {} agents. Each observes a state with length: {}'.format(states.shape[0], state_size))\n",
    "print('The state for the first agent looks like:', states[0])"
   ]
  },
  {
   "cell_type": "code",
   "execution_count": null,
   "id": "2f340776",
   "metadata": {},
   "outputs": [],
   "source": [
    "env_info = env.reset(train_mode=False)[brain_name]     # reset the environment    \n",
    "states = env_info.vector_observations[0]            # get the current state (for each agent)\n",
    "print(len(states))"
   ]
  },
  {
   "cell_type": "code",
   "execution_count": null,
   "id": "077d4558",
   "metadata": {},
   "outputs": [],
   "source": [
    "env_info = env.reset(train_mode=False)[brain_name]     # reset the environment    \n",
    "states = env_info.vector_observations                  # get the current state (for each agent)\n",
    "scores = np.zeros(num_agents)                          # initialize the score (for each agent)\n",
    "while True:\n",
    "    actions = np.random.randn(num_agents, action_size) # select an action (for each agent)\n",
    "    actions = np.clip(actions, -1, 1)                  # all actions between -1 and 1\n",
    "    env_info = env.step(actions)[brain_name]           # send all actions to tne environment\n",
    "    next_states = env_info.vector_observations         # get next state (for each agent)\n",
    "    rewards = env_info.rewards                         # get reward (for each agent)\n",
    "    dones = env_info.local_done                        # see if episode finished\n",
    "    scores += env_info.rewards                         # update the score (for each agent)\n",
    "    states = next_states                               # roll over states to next time step\n",
    "    if np.any(dones):                                  # exit loop if episode finished\n",
    "        break\n",
    "print('Total score (averaged over agents) this episode: {}'.format(np.mean(scores)))"
   ]
  },
  {
   "cell_type": "markdown",
   "id": "2f5312ca",
   "metadata": {},
   "source": [
    "## Deep Deterministic Policy Gradient Implementation"
   ]
  },
  {
   "cell_type": "code",
   "execution_count": null,
   "id": "a45ce55d",
   "metadata": {},
   "outputs": [
    {
     "name": "stderr",
     "output_type": "stream",
     "text": [
      "/lhome/jaiinga/miniconda3/envs/drlnd-p2/lib/python3.10/site-packages/torch/nn/functional.py:1949: UserWarning: nn.functional.tanh is deprecated. Use torch.tanh instead.\n",
      "  warnings.warn(\"nn.functional.tanh is deprecated. Use torch.tanh instead.\")\n"
     ]
    },
    {
     "name": "stdout",
     "output_type": "stream",
     "text": [
      "Episode 10/800 - Mean Score: 0.32Episode 10 - Mean Score: 0.3209999928250909\n",
      "Episode 20/800 - Mean Score: 0.47Episode 20 - Mean Score: 0.47499998938292265\n",
      "Episode 30/800 - Mean Score: 0.54Episode 30 - Mean Score: 0.5373333213229974\n",
      "Episode 40/800 - Mean Score: 0.75Episode 40 - Mean Score: 0.7534999831579625\n",
      "Episode 50/800 - Mean Score: 1.06Episode 50 - Mean Score: 1.0579999763518573\n",
      "Episode 60/800 - Mean Score: 1.35Episode 60 - Mean Score: 1.3494999698363244\n",
      "Episode 70/800 - Mean Score: 1.63Episode 70 - Mean Score: 1.6271428207733802\n",
      "Episode 80/800 - Mean Score: 1.83Episode 80 - Mean Score: 1.8256249591941014\n",
      "Episode 90/800 - Mean Score: 2.19Episode 90 - Mean Score: 2.1944443953947887\n"
     ]
    }
   ],
   "source": [
    "from ddpg_agent import DDPGAgent\n",
    "from collections import deque\n",
    "import torch\n",
    "\n",
    "# Hyperparameters\n",
    "BUFFER_SIZE = 100000  # replay buffer size\n",
    "BATCH_SIZE = 256       # minibatch size\n",
    "GAMMA = 0.99          # discount factor\n",
    "TAU = 5e-4           # for soft update of target parameters\n",
    "LR_ACTOR = 2e-5         # learning rate of the actor \n",
    "LR_CRITIC = 2e-4        # learning rate of the critic\n",
    "HIDDEN_SIZE_1 = 256  # size of the first hidden layer\n",
    "HIDDEN_SIZE_2 = 256  # size of the second hidden layer\n",
    "WEIGHT_DECAY = 0.0   # L2 weight decay\n",
    "LEARN_EVERY = 40\n",
    "NUM_TRAINING = 20\n",
    "\n",
    "# Other parameters\n",
    "n_episodes = 800\n",
    "t_max = 900  # maximum number of timesteps per episode\n",
    "scores = []  # list of scores from each episode\n",
    "mean_scores = []  # mean score at each episode\n",
    "scores_window = deque(maxlen=100)\n",
    "high_score_count = 0  # count of episodes with high score of 30 or more\n",
    "\n",
    "agent = DDPGAgent(state_size=state_size, action_size=action_size, hidden_size_1=HIDDEN_SIZE_1,\n",
    "                 hidden_size_2=HIDDEN_SIZE_2, buffer_size=BUFFER_SIZE, batch_size=BATCH_SIZE, gamma=GAMMA,\n",
    "                 tau=TAU, lr_actor=LR_ACTOR, lr_critic=LR_CRITIC, weight_decay=WEIGHT_DECAY, learn_every=LEARN_EVERY,\n",
    "                 num_training=NUM_TRAINING, random_seed=42)\n",
    "\n",
    "for i_episode in range(1, n_episodes + 1):\n",
    "    # Intialize a random process for action exploration\n",
    "    agent.noise_reset()  # reset the noise process for each episode\n",
    "    # Receive initial state and reset scores\n",
    "    env_info = env.reset(train_mode=True)[brain_name]  # reset the environment\n",
    "    state = env_info.vector_observations[0]  # get the current state (for each agent)\n",
    "    score = 0  # initialize the score \n",
    "    for t in range(1, t_max + 1):\n",
    "        # Select an action according to the current policy and exploration noise\n",
    "        action = agent.act(state, add_noise=True)\n",
    "        # Execute the action and observe the next state and reward\n",
    "\n",
    "        env_info = env.step(action)[brain_name]\n",
    "        next_state = env_info.vector_observations[0]  # get next state \n",
    "        reward = env_info.rewards[0]  # get reward \n",
    "        done = env_info.local_done[0]  # get done \n",
    "\n",
    "\n",
    "        # Add to experience and learn\n",
    "        agent.step(state, action, reward, next_state, done)\n",
    "\n",
    "        state = next_state\n",
    "        score += reward\n",
    "        if done:\n",
    "            break\n",
    "\n",
    "    scores.append(score)\n",
    "    scores_window.append(score)  # save most recent score\n",
    "    mean_scores.append(np.mean(scores_window))  # save mean score\n",
    "    print(f\"\\rEpisode {i_episode}/{n_episodes} - Mean Score: {np.mean(scores_window):.2f}\", end=\"\")\n",
    "\n",
    "    if i_episode % 10 == 0:\n",
    "        print(f\"\\rEpisode {i_episode} - Mean Score: {np.mean(scores_window)}\")\n",
    "\n",
    "    if np.mean(scores_window) >= 30.0:\n",
    "        high_score_count += 1\n",
    "        if high_score_count >= 100:\n",
    "            print(f\"Environment solved in {i_episode} episodes!\")\n",
    "            torch.save(agent.actor_local.state_dict(), 'checkpoint_actor.pth')\n",
    "            torch.save(agent.critic_local.state_dict(), 'checkpoint_critic.pth')\n",
    "            break"
   ]
  },
  {
   "cell_type": "code",
   "execution_count": null,
   "id": "c234b7c9",
   "metadata": {},
   "outputs": [],
   "source": [
    "env.close()"
   ]
  },
  {
   "cell_type": "code",
   "execution_count": null,
   "id": "6b00d901",
   "metadata": {},
   "outputs": [],
   "source": [
    "import matplotlib.pyplot as plt\n",
    "import json\n",
    "import numpy as np\n",
    "# plot the scores\n",
    "fig = plt.figure()\n",
    "ax = fig.add_subplot(211)\n",
    "plt.plot(np.arange(len(scores)), scores)\n",
    "plt.ylabel('Score')\n",
    "plt.xlabel('Episode #')\n",
    "fig.add_subplot(212)\n",
    "plt.plot(np.arange(len(mean_scores)), mean_scores)\n",
    "plt.ylabel('Mean Score')\n",
    "plt.xlabel('Episode #')\n",
    "plt.show()"
   ]
  },
  {
   "cell_type": "code",
   "execution_count": null,
   "id": "f44222bf",
   "metadata": {},
   "outputs": [],
   "source": [
    "import torch\n",
    "print(torch.cuda.is_available())\n",
    "print(torch.version.cuda)"
   ]
  }
 ],
 "metadata": {
  "kernelspec": {
   "display_name": "drlnd-p2",
   "language": "python",
   "name": "python3"
  },
  "language_info": {
   "codemirror_mode": {
    "name": "ipython",
    "version": 3
   },
   "file_extension": ".py",
   "mimetype": "text/x-python",
   "name": "python",
   "nbconvert_exporter": "python",
   "pygments_lexer": "ipython3",
   "version": "3.10.18"
  }
 },
 "nbformat": 4,
 "nbformat_minor": 5
}
